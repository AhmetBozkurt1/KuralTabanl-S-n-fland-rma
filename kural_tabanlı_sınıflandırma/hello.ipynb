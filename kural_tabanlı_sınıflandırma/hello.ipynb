{
 "cells": [
  {
   "cell_type": "markdown",
   "metadata": {},
   "source": [
    "İŞ PROBLEMİ:\n",
    "\n",
    "Bir tatil sitesi yaptığı satışların bazı özelliklerini kullanarak seviye tabanlı (level based) yeni satış tanımları oluşturmak ve bu yeni satış tanımlarına göre segmentler oluşturup bu segmentlere göre yeni gelebilecek müşterilerin şirkete ortalama ne kadar kazandırabileceğini tahmin etmek istemektedir.Örneğin Antalya’dan Herşey Dahil bir otele yoğun bir dönemde gitmek isteyen bir müşterinin ortalama ne kadar kazandırabileceği belirlenmek isteniyor.\n",
    "\n",
    "Veri Seti Hikayesi: \n",
    "Veri seti bir tatil sitesinin yaptığı satışların fiyatlarını ve bu satışlara ait bilgiler içermektedir. Veri seti her satış işleminde oluşan kayıtlardan meydana gelmektedir. Bunun anlamı tablo tekilleştirilmemiştir. Diğer bir ifade ile müşteri birden fazla alışveriş yapmış olabilir.\n",
    "\n",
    "Değişkenler: \n",
    "SaleId : Satış id SaleDate : Satış Tarihi CheckInDate : Müşterinin otele girişi tarihi Price : Satış için ödenen fiyat ConceptName: Otel konsept bilgisi SaleCityName: Otelin bulunduğu şehir bilgisi CInDay:Müşterinin otele giriş günü SaleCheckInDayDiff: Check in ile giriş tarihi gün farkı Season:Otele giriş tarihindeki sezon bilgisi"
   ]
  },
  {
   "cell_type": "code",
   "execution_count": null,
   "metadata": {},
   "outputs": [],
   "source": [
    "import pandas as pd\n",
    "import warnings\n",
    "warnings.filterwarnings(\"ignore\")\n",
    "pd.set_option(\"display.max_columns\", None)\n",
    "pd.set_option(\"display.max_rows\", None)\n",
    "pd.set_option(\"display.width\", 500)"
   ]
  },
  {
   "cell_type": "code",
   "execution_count": 3,
   "metadata": {},
   "outputs": [
    {
     "data": {
      "text/html": [
       "<div>\n",
       "<style scoped>\n",
       "    .dataframe tbody tr th:only-of-type {\n",
       "        vertical-align: middle;\n",
       "    }\n",
       "\n",
       "    .dataframe tbody tr th {\n",
       "        vertical-align: top;\n",
       "    }\n",
       "\n",
       "    .dataframe thead th {\n",
       "        text-align: right;\n",
       "    }\n",
       "</style>\n",
       "<table border=\"1\" class=\"dataframe\">\n",
       "  <thead>\n",
       "    <tr style=\"text-align: right;\">\n",
       "      <th></th>\n",
       "      <th>SaleId</th>\n",
       "      <th>SaleDate</th>\n",
       "      <th>CheckInDate</th>\n",
       "      <th>Price</th>\n",
       "      <th>ConceptName</th>\n",
       "      <th>SaleCityName</th>\n",
       "      <th>CInDay</th>\n",
       "      <th>SaleCheckInDayDiff</th>\n",
       "      <th>Seasons</th>\n",
       "    </tr>\n",
       "  </thead>\n",
       "  <tbody>\n",
       "    <tr>\n",
       "      <th>0</th>\n",
       "      <td>415122</td>\n",
       "      <td>2022-12-03</td>\n",
       "      <td>2022-12-03</td>\n",
       "      <td>79.304029</td>\n",
       "      <td>Herşey Dahil</td>\n",
       "      <td>Antalya</td>\n",
       "      <td>Saturday</td>\n",
       "      <td>0</td>\n",
       "      <td>Low</td>\n",
       "    </tr>\n",
       "    <tr>\n",
       "      <th>1</th>\n",
       "      <td>415103</td>\n",
       "      <td>2022-12-03</td>\n",
       "      <td>2022-12-03</td>\n",
       "      <td>45.970696</td>\n",
       "      <td>Yarım Pansiyon</td>\n",
       "      <td>Antalya</td>\n",
       "      <td>Saturday</td>\n",
       "      <td>0</td>\n",
       "      <td>Low</td>\n",
       "    </tr>\n",
       "    <tr>\n",
       "      <th>2</th>\n",
       "      <td>404034</td>\n",
       "      <td>2022-09-12</td>\n",
       "      <td>2022-09-13</td>\n",
       "      <td>77.838828</td>\n",
       "      <td>Herşey Dahil</td>\n",
       "      <td>Antalya</td>\n",
       "      <td>Tuesday</td>\n",
       "      <td>1</td>\n",
       "      <td>High</td>\n",
       "    </tr>\n",
       "    <tr>\n",
       "      <th>3</th>\n",
       "      <td>415094</td>\n",
       "      <td>2022-12-03</td>\n",
       "      <td>2022-12-10</td>\n",
       "      <td>222.710623</td>\n",
       "      <td>Yarım Pansiyon</td>\n",
       "      <td>İzmir</td>\n",
       "      <td>Saturday</td>\n",
       "      <td>7</td>\n",
       "      <td>Low</td>\n",
       "    </tr>\n",
       "    <tr>\n",
       "      <th>4</th>\n",
       "      <td>414951</td>\n",
       "      <td>2022-12-01</td>\n",
       "      <td>2022-12-03</td>\n",
       "      <td>140.476190</td>\n",
       "      <td>Yarım Pansiyon</td>\n",
       "      <td>İzmir</td>\n",
       "      <td>Saturday</td>\n",
       "      <td>2</td>\n",
       "      <td>Low</td>\n",
       "    </tr>\n",
       "  </tbody>\n",
       "</table>\n",
       "</div>"
      ],
      "text/plain": [
       "   SaleId    SaleDate CheckInDate       Price     ConceptName SaleCityName    CInDay  SaleCheckInDayDiff Seasons\n",
       "0  415122  2022-12-03  2022-12-03   79.304029    Herşey Dahil      Antalya  Saturday                   0     Low\n",
       "1  415103  2022-12-03  2022-12-03   45.970696  Yarım Pansiyon      Antalya  Saturday                   0     Low\n",
       "2  404034  2022-09-12  2022-09-13   77.838828    Herşey Dahil      Antalya   Tuesday                   1    High\n",
       "3  415094  2022-12-03  2022-12-10  222.710623  Yarım Pansiyon        İzmir  Saturday                   7     Low\n",
       "4  414951  2022-12-01  2022-12-03  140.476190  Yarım Pansiyon        İzmir  Saturday                   2     Low"
      ]
     },
     "execution_count": 3,
     "metadata": {},
     "output_type": "execute_result"
    }
   ],
   "source": [
    "df = pd.read_csv(\"/Users/ahmetbozkurt/Desktop/github_projeler/kural_tabanlı_sınıflandırma/kural_tabanl_dataset.csv\")\n",
    "df.head()"
   ]
  },
  {
   "cell_type": "markdown",
   "metadata": {},
   "source": [
    "1.VERİYE GENEL BAKIŞ"
   ]
  },
  {
   "cell_type": "code",
   "execution_count": null,
   "metadata": {},
   "outputs": [],
   "source": [
    "print(\"##################### Shape #####################\")\n",
    "print(df.shape)\n",
    "print(\"##################### Head #####################\")\n",
    "print(df.head())\n",
    "print(\"##################### NA #####################\")\n",
    "print(df.isnull().sum())\n",
    "print(\"##################### INFO #####################\")\n",
    "print(df.info())"
   ]
  },
  {
   "cell_type": "code",
   "execution_count": null,
   "metadata": {},
   "outputs": [],
   "source": [
    "# Soru 1: Kaç unique şehir vardır?\n",
    "df[\"SaleCityName\"].nunique()"
   ]
  },
  {
   "cell_type": "code",
   "execution_count": null,
   "metadata": {},
   "outputs": [],
   "source": [
    "# Soru 2: Kaç unique Concept vardır?\n",
    "df[\"ConceptName\"].unique()"
   ]
  },
  {
   "cell_type": "code",
   "execution_count": null,
   "metadata": {},
   "outputs": [],
   "source": [
    "# Soru 3: Hangi Concept’den kaçar tane satış gerçekleşmiş?\n",
    "df[\"ConceptName\"].value_counts()"
   ]
  },
  {
   "cell_type": "code",
   "execution_count": null,
   "metadata": {},
   "outputs": [],
   "source": [
    "# Soru 4: Şehirlere göre satışlardan toplam ne kadar kazanılmış?\n",
    "df.groupby(\"SaleCityName\").agg({\"Price\": \"sum\"}).sort_values(\"Price\", ascending=False)"
   ]
  },
  {
   "cell_type": "code",
   "execution_count": null,
   "metadata": {},
   "outputs": [],
   "source": [
    "# Soru 5: Concept türlerine göre göre ne kadar kazanılmış?\n",
    "df.groupby(\"ConceptName\").agg({\"Price\": \"sum\"}).sort_values(\"Price\", ascending=False)"
   ]
  },
  {
   "cell_type": "code",
   "execution_count": null,
   "metadata": {},
   "outputs": [],
   "source": [
    "# Soru 6: Şehirlere göre PRICE ortalamaları nedir?\n",
    "df.groupby(\"SaleCityName\").agg({\"Price\": \"mean\"}).sort_values(\"Price\", ascending=False)"
   ]
  },
  {
   "cell_type": "code",
   "execution_count": null,
   "metadata": {},
   "outputs": [],
   "source": [
    "# Soru 7: Conceptlere göre PRICE ortalamalarınedir?\n",
    "df.groupby(\"ConceptName\").agg({\"Price\": \"mean\"}).sort_values(\"Price\", ascending=False)"
   ]
  },
  {
   "cell_type": "code",
   "execution_count": null,
   "metadata": {},
   "outputs": [],
   "source": [
    "# Soru 8: Şehir-Concept kırılımında PRICE ortalamaları nedir?\n",
    "df.groupby([\"SaleCityName\", \"ConceptName\"]).agg({\"Price\": \"mean\"})"
   ]
  },
  {
   "cell_type": "markdown",
   "metadata": {},
   "source": [
    "2.VERİ MANİPÜLASYONU"
   ]
  },
  {
   "cell_type": "code",
   "execution_count": null,
   "metadata": {},
   "outputs": [],
   "source": [
    "# SaleCheckInDayDiff değişkenini kategorik bir değişkene çeviriniz.\n",
    "# Aralıklar için \"Last Minuters\", \"Potential Planners\", \"Planners\", \"Early Bookers“ isimlerini kullanabilirsiniz.\n",
    "labels = [\"Last Minuters\", \"Potential Planners\", \"Planners\", \"Early Bookers\"]\n",
    "df[\"Sale_Check_Cat\"] = pd.cut(df[\"SaleCheckInDayDiff\"], bins=[0, 7, 30, 90, float(\"inf\")], labels=labels, right=False)\n",
    "df.head()"
   ]
  },
  {
   "cell_type": "code",
   "execution_count": null,
   "metadata": {},
   "outputs": [],
   "source": [
    "# SaleCityName, ConceptName, Seasons kırılımında ortalama ödenen ücret ve yapılan işlem sayısı cinsinden inceleyiniz ?\n",
    "df.groupby([\"SaleCityName\", \"ConceptName\", \"Seasons\"]).agg({\"Price\": [\"mean\", \"count\"]})"
   ]
  },
  {
   "cell_type": "code",
   "execution_count": null,
   "metadata": {},
   "outputs": [],
   "source": [
    "# SaleCityName, ConceptName, Seasons kırılımının çıktısını PRICE'a göre sıralayınız.\n",
    "# Elde ettiğiniz çıktıyı agg_df olarak kaydediniz.\n",
    "# Indekste yer alan isimleri değişken ismine çeviriniz.\n",
    "agg_df = df.groupby([\"SaleCityName\", \"ConceptName\", \"Seasons\"]).agg({\"Price\": \"mean\"}).sort_values(\"Price\", ascending=False)\n",
    "agg_df = agg_df.reset_index()\n",
    "agg_df.head()"
   ]
  },
  {
   "cell_type": "code",
   "execution_count": null,
   "metadata": {},
   "outputs": [],
   "source": [
    "# Yeni seviye tabanlı satışları tanımlayınız ve veri setine değişken olarak ekleyiniz.\n",
    "# Yeni oluşturacağımız Sales_Level_Based değişkeni sırası ile; SaleCityName, ConceptName, Seasons verilerinin her birinin \n",
    "# birleşimini gösterecek şekilde yeni değişken oluşturunuz.\n",
    "agg_df[\"Sales_Level_Based\"] = agg_df[[\"SaleCityName\", \"ConceptName\", \"Seasons\"]].apply(lambda x: \"_\".join(x).upper(), axis=1)\n",
    "agg_df.head()"
   ]
  },
  {
   "cell_type": "code",
   "execution_count": null,
   "metadata": {},
   "outputs": [],
   "source": [
    "# Müşterileri Price’a göre 4 segmente ayırınız.\n",
    "# Segmentleri Segment isimlendirmesi ile değişken olarak agg_df’e ekleyiniz.\n",
    "# Segmentleri betimleyiniz (Segmentlere göre group by yapıp price mean, max, sum’larını alınız).\n",
    "agg_df[\"Segment\"] = pd.qcut(agg_df[\"Price\"], 4, labels=[\"D\", \"C\", \"B\", \"A\"])\n",
    "agg_df.groupby(agg_df[\"Segment\"]).agg({\"Price\": [\"mean\", \"sum\", \"max\"]})"
   ]
  },
  {
   "cell_type": "markdown",
   "metadata": {},
   "source": [
    "3.POTANSİYEL GETİRİ TAHMİNİ"
   ]
  },
  {
   "cell_type": "code",
   "execution_count": null,
   "metadata": {},
   "outputs": [],
   "source": [
    "# Yeni gelen müşterileri sınıflandırıp, ne kadar gelir getirebileceklerini tahmin ediniz.Örnek müşteri profilleri tanımlayalım.\n",
    "# Antalya’da herşey dahil ve yüksek sezonda tatil yapmak isteyen bir kişinin ortalama ne kadar gelir kazandırması beklenir?\n",
    "new_user = \"ANTALYA_HERŞEY DAHIL_HIGH\"\n",
    "print(agg_df.loc[agg_df[\"Sales_Level_Based\"] == new_user, \"Segment\"].values[0])\n",
    "print(round(agg_df.loc[agg_df[\"Sales_Level_Based\"] == new_user, \"Price\"].mean(), 3))\n",
    "\n",
    "# B Segmentindedir.\n",
    "# 64.92 Price getirisi öngörülür."
   ]
  },
  {
   "cell_type": "code",
   "execution_count": null,
   "metadata": {},
   "outputs": [],
   "source": [
    "# Girne’de yarım pansiyon bir otele düşük sezonda giden bir tatilci hangi segmentte yer alacaktır?\n",
    "new_user2 = \"GIRNE_YARIM PANSIYON_LOW\"\n",
    "print(agg_df.loc[agg_df[\"Sales_Level_Based\"] == new_user2, \"Segment\"].values[0])\n",
    "print(round(agg_df.loc[agg_df[\"Sales_Level_Based\"] == new_user2, \"Price\"].mean(), 3))\n",
    "\n",
    "# C Segmentindedir.\n",
    "# 48.579 Price getirisi öngörülür."
   ]
  },
  {
   "cell_type": "code",
   "execution_count": null,
   "metadata": {},
   "outputs": [],
   "source": [
    "# Müşteri bilgileri girildiğinde segmentini ve tahmini getirisini hesaplayan bir fonksiyon yazalım.\n",
    "def estimate(dataframe, column, city, concept, season):\n",
    "    user = f\"{city.upper()}_{concept.upper()}_{season.upper()}\"\n",
    "    print(f\"SEGMENT: {dataframe.loc[dataframe[column] == user, 'Segment'].values[0]}\")\n",
    "    print(f\"AVERAGE PRICE: {round(dataframe.loc[dataframe[column] == user, 'Price'].values[0], 4)}\")\n",
    "\n",
    "estimate(agg_df, \"Sales_Level_Based\", \"Girne\", \"Yarım Pansiyon\", \"Low\")"
   ]
  }
 ],
 "metadata": {
  "kernelspec": {
   "display_name": "myenv",
   "language": "python",
   "name": "python3"
  },
  "language_info": {
   "codemirror_mode": {
    "name": "ipython",
    "version": 3
   },
   "file_extension": ".py",
   "mimetype": "text/x-python",
   "name": "python",
   "nbconvert_exporter": "python",
   "pygments_lexer": "ipython3",
   "version": "3.10.14"
  }
 },
 "nbformat": 4,
 "nbformat_minor": 2
}
